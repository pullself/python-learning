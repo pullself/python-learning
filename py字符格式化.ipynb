{
 "cells": [
  {
   "cell_type": "markdown",
   "metadata": {},
   "source": [
    "## 字符串格式化\n",
    "   - 两种格式化方法\n",
    "       - 利用百分号格式化\n",
    "       - 利用format函数格式化"
   ]
  },
  {
   "cell_type": "markdown",
   "metadata": {},
   "source": [
    "### 百分号格式化\n",
    "   - 格式：%[(name)][flags][width][.precision][typecode]\n",
    "   - (name) 用于指定key值，可以和字典搭配使用\n",
    "   - flags \n",
    "        - '+' 右对齐；正数前加正号，负数前加负号；\n",
    "        - '-' 左对齐；正数前无符号，负数前加负号；\n",
    "        - 空格 右对齐；正数前加空格，负数前加负号；\n",
    "        - 0 右对齐；正数前无符号，负数前加负号；用0填充空白\n",
    "   - width 占有宽度\n",
    "   - precision 小数点后保留位数，前加一个点\n",
    "   - typecode\n",
    "        - s 字符串\n",
    "        - r 对象\n",
    "        - c 整数\n",
    "        - o 八进制\n",
    "        - x 十六进制\n",
    "        - d 十进制\n",
    "        - e 科学计数法 小写e\n",
    "        - E 科学计数法 大写E\n",
    "        - f 浮点数表示（保留小数点后六位）\n",
    "        - F 同上\n",
    "        - % %%表示一个百分号"
   ]
  },
  {
   "cell_type": "code",
   "execution_count": 2,
   "metadata": {},
   "outputs": [
    {
     "name": "stdout",
     "output_type": "stream",
     "text": [
      "This is a string\n"
     ]
    }
   ],
   "source": [
    "s = \"This is a %s\"\n",
    "print(s%\"string\")"
   ]
  },
  {
   "cell_type": "code",
   "execution_count": 3,
   "metadata": {},
   "outputs": [
    {
     "name": "stdout",
     "output_type": "stream",
     "text": [
      "This is a 18\n"
     ]
    }
   ],
   "source": [
    "d = \"This is a %d\"\n",
    "print(d%18)"
   ]
  },
  {
   "cell_type": "code",
   "execution_count": 5,
   "metadata": {},
   "outputs": [
    {
     "name": "stdout",
     "output_type": "stream",
     "text": [
      "i am alex\n"
     ]
    }
   ],
   "source": [
    "tes = \"i am %(name)s\"\n",
    "print(tes%{\"name\":\"alex\"})"
   ]
  },
  {
   "cell_type": "code",
   "execution_count": 6,
   "metadata": {},
   "outputs": [
    {
     "name": "stdout",
     "output_type": "stream",
     "text": [
      "i am 0018\n"
     ]
    }
   ],
   "source": [
    "tes = \"i am %04d\"\n",
    "print(tes%18)"
   ]
  },
  {
   "cell_type": "code",
   "execution_count": 7,
   "metadata": {},
   "outputs": [
    {
     "name": "stdout",
     "output_type": "stream",
     "text": [
      "i am    +20\n"
     ]
    }
   ],
   "source": [
    "tes = \"i am %+6d\"\n",
    "print(tes%20)"
   ]
  },
  {
   "cell_type": "code",
   "execution_count": 8,
   "metadata": {},
   "outputs": [
    {
     "name": "stdout",
     "output_type": "stream",
     "text": [
      "i am alex my hobby is play\n"
     ]
    }
   ],
   "source": [
    "tes = \"i am %s my hobby is %s\"\n",
    "print(tes%('alex','play'))"
   ]
  },
  {
   "cell_type": "code",
   "execution_count": 9,
   "metadata": {},
   "outputs": [
    {
     "name": "stdout",
     "output_type": "stream",
     "text": [
      "this is science 2.562388e+00\n"
     ]
    }
   ],
   "source": [
    "tes = \"this is science %e\"\n",
    "print(tes%2.5623876742)"
   ]
  },
  {
   "cell_type": "markdown",
   "metadata": {},
   "source": [
    "### format函数格式化\n",
    "   - 以{}代替原来的%\n",
    "   - 参数语法 [[fill]align][sign][#][0][width][,][.precision][type]\n",
    "   - fill 空白处填充的字符\n",
    "   - align 对齐方式（搭配width）\n",
    "       - ’<‘ 左对齐\n",
    "       - ’>‘ 右对齐\n",
    "       - = 右对齐，符号放在填充字符的左侧，只对数字类型有效\n",
    "       - ^ 居中对齐\n",
    "   - sign 符号类型\n",
    "       - ‘+’ 正号为正，负号为负\n",
    "       - ‘-’ 正号不变，负号为负\n",
    "       - 空格 正号空格，负号为负\n",
    "   - ’#‘ 对于二进制，八进制，十六进制，加上#会显示0b/0o/0x\n",
    "   - , 数字添加分隔符\n",
    "   - width 占有宽度\n",
    "   - precision 小数保留精度\n",
    "   - type \n",
    "       - s 字符串\n",
    "       - 空白 默认None\n",
    "       - b 二进制\n",
    "       - c unicode字符\n",
    "       - d 十进制\n",
    "       - o 八进制\n",
    "       - x 十六进制\n",
    "       - X 大写十六进制\n",
    "       - e 科学计数法\n",
    "       - E 科学计数法\n",
    "       - f 浮点数\n",
    "       - % 显示百分比"
   ]
  },
  {
   "cell_type": "code",
   "execution_count": 10,
   "metadata": {},
   "outputs": [
    {
     "name": "stdout",
     "output_type": "stream",
     "text": [
      "Help on built-in function format in module builtins:\n",
      "\n",
      "format(value, format_spec='', /)\n",
      "    Return value.__format__(format_spec)\n",
      "    \n",
      "    format_spec defaults to the empty string.\n",
      "    See the Format Specification Mini-Language section of help('FORMATTING') for\n",
      "    details.\n",
      "\n"
     ]
    }
   ],
   "source": [
    "help(format)"
   ]
  },
  {
   "cell_type": "code",
   "execution_count": 11,
   "metadata": {},
   "outputs": [
    {
     "name": "stdout",
     "output_type": "stream",
     "text": [
      "i am alex\n"
     ]
    }
   ],
   "source": [
    "tes = \"i am {}\"\n",
    "print(tes.format('alex'))"
   ]
  },
  {
   "cell_type": "code",
   "execution_count": 12,
   "metadata": {},
   "outputs": [
    {
     "name": "stdout",
     "output_type": "stream",
     "text": [
      "i am 18\n"
     ]
    }
   ],
   "source": [
    "tes = \"i am {}\"\n",
    "print(tes.format(18))"
   ]
  },
  {
   "cell_type": "code",
   "execution_count": 23,
   "metadata": {},
   "outputs": [
    {
     "name": "stdout",
     "output_type": "stream",
     "text": [
      "i am +00233\n"
     ]
    }
   ],
   "source": [
    "tes = \"i am {:0=+6d}\"\n",
    "print(tes.format(233))"
   ]
  },
  {
   "cell_type": "code",
   "execution_count": 24,
   "metadata": {},
   "outputs": [
    {
     "name": "stdout",
     "output_type": "stream",
     "text": [
      "i am 2.33\n"
     ]
    }
   ],
   "source": [
    "tes = \"i am {:.2f}\"\n",
    "print(tes.format(2.33333))"
   ]
  },
  {
   "cell_type": "code",
   "execution_count": 26,
   "metadata": {},
   "outputs": [
    {
     "name": "stdout",
     "output_type": "stream",
     "text": [
      "i am 20%\n"
     ]
    }
   ],
   "source": [
    "tes = \"i am {0:.0%}\"\n",
    "print(tes.format(0.2))"
   ]
  }
 ],
 "metadata": {
  "kernelspec": {
   "display_name": "Python 3",
   "language": "python",
   "name": "python3"
  },
  "language_info": {
   "codemirror_mode": {
    "name": "ipython",
    "version": 3
   },
   "file_extension": ".py",
   "mimetype": "text/x-python",
   "name": "python",
   "nbconvert_exporter": "python",
   "pygments_lexer": "ipython3",
   "version": "3.6.7"
  }
 },
 "nbformat": 4,
 "nbformat_minor": 2
}
