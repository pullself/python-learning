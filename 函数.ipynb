{
 "cells": [
  {
   "cell_type": "markdown",
   "metadata": {},
   "source": [
    "## 函数\n",
    "   - 定义使用def 函数名(参数列表):\n",
    "   - 语法\n",
    "           \n",
    "           def func():\n",
    "               语句块\n",
    "               \n",
    "   - 可以通过return返回值，但是不需要像是c之类的需要设定函数返回值。"
   ]
  },
  {
   "cell_type": "code",
   "execution_count": 7,
   "metadata": {},
   "outputs": [
    {
     "name": "stdout",
     "output_type": "stream",
     "text": [
      "1 2 3 4 5 6 7 8 9 10 "
     ]
    }
   ],
   "source": [
    "def func():\n",
    "    #print里的end参数为执行完后的处理填充，默认为\\n换行\n",
    "    for i in range(1,11):\n",
    "        print(i,end=\" \")\n",
    "\n",
    "func()"
   ]
  },
  {
   "cell_type": "markdown",
   "metadata": {},
   "source": [
    "## 参数介绍\n",
    "   - 普通参数（位置参数）\n",
    "   - 默认参数\n",
    "   - 关键字参数\n",
    "   - 收集参数（包裹型参数）"
   ]
  },
  {
   "cell_type": "markdown",
   "metadata": {},
   "source": [
    "### 位置参数\n",
    "   - 类似于c++中的参数，形参与实参相对应。\n",
    "   - 调用函数时根据函数定义的参数位置来传递参数，调用时需要一一对应，缺一不可。\n",
    "   - 形如 \n",
    "               \n",
    "               def func(name,age)\n",
    "                   语句块\n",
    "                   ……"
   ]
  },
  {
   "cell_type": "code",
   "execution_count": 8,
   "metadata": {},
   "outputs": [],
   "source": [
    "def func(name,age):\n",
    "    print(\"{0},{1}\".format(name,age))"
   ]
  },
  {
   "cell_type": "code",
   "execution_count": 9,
   "metadata": {},
   "outputs": [
    {
     "name": "stdout",
     "output_type": "stream",
     "text": [
      "alex,18\n"
     ]
    }
   ],
   "source": [
    "n = \"alex\"\n",
    "a = 18\n",
    "func(n,a)"
   ]
  },
  {
   "cell_type": "markdown",
   "metadata": {},
   "source": [
    "### 默认参数\n",
    "- 类似于c++中的缺省参数，就是在定义的时候给一个默认的初始值，当调用的时候不给处具体值时候，则使用默认值进行处理。\n",
    "- 所有位置参数需要放在默认参数之前\n",
    "- 形如\n",
    "        \n",
    "        def func(name,age=18):\n",
    "            语句块\n",
    "            ……\n",
    "            "
   ]
  },
  {
   "cell_type": "code",
   "execution_count": 10,
   "metadata": {},
   "outputs": [],
   "source": [
    "def func(name,age=18):\n",
    "    print(\"{0},{1}\".format(name,age))"
   ]
  },
  {
   "cell_type": "code",
   "execution_count": 13,
   "metadata": {},
   "outputs": [
    {
     "name": "stdout",
     "output_type": "stream",
     "text": [
      "alex,18\n",
      "alex,24\n"
     ]
    }
   ],
   "source": [
    "n = \"alex\"\n",
    "a = 24\n",
    "func(n)\n",
    "func(n,a)"
   ]
  },
  {
   "cell_type": "markdown",
   "metadata": {},
   "source": [
    "### 关键字参数\n",
    "- 以键值对的形式传入调用，可以更清晰的知道传入的参数对应。\n",
    "- 主要用于定义参数的时候有多个默认参数的时候\n",
    "- 调用的时候先写位置参数，再写关键字参数"
   ]
  },
  {
   "cell_type": "code",
   "execution_count": 14,
   "metadata": {},
   "outputs": [],
   "source": [
    "def func(name,age=18,gender=\"male\"):\n",
    "    print(\"{0},{1},{2}\".format(name,age,gender))"
   ]
  },
  {
   "cell_type": "code",
   "execution_count": 16,
   "metadata": {},
   "outputs": [
    {
     "name": "stdout",
     "output_type": "stream",
     "text": [
      "alex,18,male\n",
      "lily,16,female\n",
      "mary,18,female\n",
      "haha,female,male\n",
      "bob,24,no female\n"
     ]
    }
   ],
   "source": [
    "func(\"alex\")\n",
    "func(\"lily\",16,gender=\"female\")\n",
    "func(\"mary\",gender=\"female\")\n",
    "#如果不加关键字的话\n",
    "func(\"haha\",\"female\")\n",
    "#改变参数顺序\n",
    "func(\"bob\",gender=\"no female\",age=24)\n",
    "#func(age=24,\"false\") 这是错误的"
   ]
  },
  {
   "cell_type": "markdown",
   "metadata": {},
   "source": [
    "### 收集参数（包裹类型参数）\n",
    "- 类似于c++中将数组之类的以引用or指针的形式传入一个package\n",
    "- 一般使用args（元祖），kwargs（字典）\n",
    "- 普通（位置）参数会存入args中，而关键字参数会存入kwargs"
   ]
  },
  {
   "cell_type": "markdown",
   "metadata": {},
   "source": [
    "#### args\n",
    "- 语法\n",
    "        \n",
    "        def func(*args)\n",
    "            语句块\n",
    "            \n",
    "        调用：\n",
    "        func(v1,v2,v3,v3)\n",
    "        fucn(*args)"
   ]
  },
  {
   "cell_type": "code",
   "execution_count": 36,
   "metadata": {},
   "outputs": [],
   "source": [
    "def func(*args):\n",
    "    for i in args:\n",
    "        print(i)"
   ]
  },
  {
   "cell_type": "code",
   "execution_count": 37,
   "metadata": {},
   "outputs": [
    {
     "name": "stdout",
     "output_type": "stream",
     "text": [
      "('wocao', 18, '这是一个测试', 'test.py')\n",
      "\n",
      "wocao\n",
      "18\n",
      "这是一个测试\n",
      "test.py\n",
      "\n",
      "wocao\n",
      "18\n",
      "这是一个测试\n",
      "test.py\n"
     ]
    }
   ],
   "source": [
    "args = (\"wocao\",18,\"这是一个测试\",\"test.py\")\n",
    "func(args)\n",
    "print(\"\")\n",
    "func(*args)\n",
    "print(\"\")\n",
    "func(\"wocao\",18,\"这是一个测试\",\"test.py\")"
   ]
  },
  {
   "cell_type": "code",
   "execution_count": 40,
   "metadata": {},
   "outputs": [],
   "source": [
    "def func(one,two,three,four):\n",
    "    print (one,two,three,four)"
   ]
  },
  {
   "cell_type": "code",
   "execution_count": 42,
   "metadata": {
    "scrolled": false
   },
   "outputs": [
    {
     "name": "stdout",
     "output_type": "stream",
     "text": [
      "wocao 18 这是一个测试 test.py\n",
      "\n",
      "wocao 18 这是一个测试 test.py\n"
     ]
    }
   ],
   "source": [
    "args = (\"wocao\",18,\"这是一个测试\",\"test.py\")\n",
    "func(\"wocao\",18,\"这是一个测试\",\"test.py\")\n",
    "print(\"\")\n",
    "#func(args) 这是错误的\n",
    "func(*args)"
   ]
  },
  {
   "cell_type": "markdown",
   "metadata": {},
   "source": [
    "#### kwargs\n",
    "- 语法\n",
    "        \n",
    "        def func(**kwargs)\n",
    "            语句块\n",
    "            \n",
    "        调用：\n",
    "        func(**kwargs)这里kwargs是一个字典\n",
    "        func(k1=v1,k2=v2,k3=v3)"
   ]
  },
  {
   "cell_type": "code",
   "execution_count": 44,
   "metadata": {},
   "outputs": [],
   "source": [
    "def func(**kwargs):\n",
    "    print(kwargs)"
   ]
  },
  {
   "cell_type": "code",
   "execution_count": 48,
   "metadata": {
    "scrolled": true
   },
   "outputs": [
    {
     "name": "stdout",
     "output_type": "stream",
     "text": [
      "{'one': 'wocao', 'two': 18, 'three': '这是一个测试', 'four': 'test.py'}\n",
      "\n",
      "{'one': 'wocao', 'two': 18, 'three': '这是一个测试', 'four': 'test.py'}\n"
     ]
    }
   ],
   "source": [
    "kwargs = {'one':\"wocao\",'two':18,'three':'这是一个测试','four':'test.py'}\n",
    "func(**kwargs)\n",
    "print(\"\")\n",
    "func(one='wocao',two=18,three='这是一个测试',four='test.py')"
   ]
  },
  {
   "cell_type": "code",
   "execution_count": 53,
   "metadata": {},
   "outputs": [],
   "source": [
    "def func(**kwargs):\n",
    "    for k,v in kwargs.items():\n",
    "        print(k,'=',v)"
   ]
  },
  {
   "cell_type": "code",
   "execution_count": 54,
   "metadata": {},
   "outputs": [
    {
     "name": "stdout",
     "output_type": "stream",
     "text": [
      "one = wocao\n",
      "two = 18\n",
      "three = 这是一个测试\n",
      "four = test.py\n",
      "\n",
      "one = wocao\n",
      "two = 18\n",
      "three = 这是一个测试\n",
      "four = test.py\n"
     ]
    }
   ],
   "source": [
    "kwargs = {'one':\"wocao\",'two':18,'three':'这是一个测试','four':'test.py'}\n",
    "func(**kwargs)\n",
    "print(\"\")\n",
    "func(one='wocao',two=18,three='这是一个测试',four='test.py')"
   ]
  },
  {
   "cell_type": "code",
   "execution_count": 63,
   "metadata": {},
   "outputs": [],
   "source": [
    "def func(one,two,three,four):\n",
    "    print(one,two,three,four)"
   ]
  },
  {
   "cell_type": "code",
   "execution_count": 65,
   "metadata": {
    "scrolled": true
   },
   "outputs": [
    {
     "name": "stdout",
     "output_type": "stream",
     "text": [
      "wocao 18 这是一个测试 test.py\n"
     ]
    }
   ],
   "source": [
    "kwargs = {'one':\"wocao\",'two':18,'three':'这是一个测试','four':'test.py'}\n",
    "func(**kwargs)"
   ]
  }
 ],
 "metadata": {
  "kernelspec": {
   "display_name": "Python 3",
   "language": "python",
   "name": "python3"
  },
  "language_info": {
   "codemirror_mode": {
    "name": "ipython",
    "version": 3
   },
   "file_extension": ".py",
   "mimetype": "text/x-python",
   "name": "python",
   "nbconvert_exporter": "python",
   "pygments_lexer": "ipython3",
   "version": "3.6.7"
  }
 },
 "nbformat": 4,
 "nbformat_minor": 2
}
